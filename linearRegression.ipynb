{
 "cells": [
  {
   "cell_type": "code",
   "execution_count": null,
   "id": "8d5b6905",
   "metadata": {},
   "outputs": [],
   "source": [
    "# implemented using the partial derivative method , not the gradient descent \n",
    "class myLeniarRegression:\n",
    "    def __init__(self):\n",
    "        self.m = None\n",
    "        self.b = None\n",
    "    def fit(self,X_train,y_train):         \n",
    "        num = 0\n",
    "        den = 0\n",
    "        for i in range(X_train.shape[0]):\n",
    "            num = num+ ((X_train[i] - X_train.mean())*(y_train[i]-y_train.mean()))\n",
    "            den = den + ((X_train[i] - X_train.mean())*(X_train[i] - X_train.mean()))\n",
    "        self.m = num/den\n",
    "        self.b = y_train.mean() - (self.m*X_train.mean())\n",
    "    def predict(self,X_test):\n",
    "        return self.m*X_test+self.b\n",
    "        \n",
    "\n"
   ]
  },
  {
   "cell_type": "code",
   "execution_count": 10,
   "id": "a986ce50",
   "metadata": {},
   "outputs": [],
   "source": [
    "import numpy as np\n",
    "import pandas as pd"
   ]
  },
  {
   "cell_type": "code",
   "execution_count": 11,
   "id": "8d29be12",
   "metadata": {},
   "outputs": [
    {
     "data": {
      "text/html": [
       "<div>\n",
       "<style scoped>\n",
       "    .dataframe tbody tr th:only-of-type {\n",
       "        vertical-align: middle;\n",
       "    }\n",
       "\n",
       "    .dataframe tbody tr th {\n",
       "        vertical-align: top;\n",
       "    }\n",
       "\n",
       "    .dataframe thead th {\n",
       "        text-align: right;\n",
       "    }\n",
       "</style>\n",
       "<table border=\"1\" class=\"dataframe\">\n",
       "  <thead>\n",
       "    <tr style=\"text-align: right;\">\n",
       "      <th></th>\n",
       "      <th>cgpa</th>\n",
       "      <th>package</th>\n",
       "    </tr>\n",
       "  </thead>\n",
       "  <tbody>\n",
       "    <tr>\n",
       "      <th>0</th>\n",
       "      <td>6.89</td>\n",
       "      <td>3.26</td>\n",
       "    </tr>\n",
       "    <tr>\n",
       "      <th>1</th>\n",
       "      <td>5.12</td>\n",
       "      <td>1.98</td>\n",
       "    </tr>\n",
       "    <tr>\n",
       "      <th>2</th>\n",
       "      <td>7.82</td>\n",
       "      <td>3.25</td>\n",
       "    </tr>\n",
       "    <tr>\n",
       "      <th>3</th>\n",
       "      <td>7.42</td>\n",
       "      <td>3.67</td>\n",
       "    </tr>\n",
       "    <tr>\n",
       "      <th>4</th>\n",
       "      <td>6.94</td>\n",
       "      <td>3.57</td>\n",
       "    </tr>\n",
       "  </tbody>\n",
       "</table>\n",
       "</div>"
      ],
      "text/plain": [
       "   cgpa  package\n",
       "0  6.89     3.26\n",
       "1  5.12     1.98\n",
       "2  7.82     3.25\n",
       "3  7.42     3.67\n",
       "4  6.94     3.57"
      ]
     },
     "execution_count": 11,
     "metadata": {},
     "output_type": "execute_result"
    }
   ],
   "source": [
    "df = pd.read_csv(\"placement.csv\")\n",
    "df.head()\n"
   ]
  },
  {
   "cell_type": "code",
   "execution_count": 12,
   "id": "cfb4c6a8",
   "metadata": {},
   "outputs": [],
   "source": [
    "X = df.iloc[:,0].values\n",
    "y = df.iloc[:,1].values"
   ]
  },
  {
   "cell_type": "code",
   "execution_count": null,
   "id": "8c7f498a",
   "metadata": {},
   "outputs": [],
   "source": [
    "from sklearn.model_selection import train_test_split      #dividing the dataset into 80/20 split \n",
    "X_train,X_test,y_train,y_test = train_test_split(X,y,test_size=0.2,random_state=2)"
   ]
  },
  {
   "cell_type": "code",
   "execution_count": 15,
   "id": "6741cb27",
   "metadata": {},
   "outputs": [],
   "source": [
    "lr = myLr()"
   ]
  },
  {
   "cell_type": "code",
   "execution_count": 16,
   "id": "1fe4c2d6",
   "metadata": {},
   "outputs": [],
   "source": [
    "lr.fit(X_train,y_train)"
   ]
  },
  {
   "cell_type": "code",
   "execution_count": 20,
   "id": "439ca2f8",
   "metadata": {},
   "outputs": [
    {
     "name": "stdout",
     "output_type": "stream",
     "text": [
      "3.891116009744203\n",
      "3.0932446877463504\n",
      "2.3846456814965085\n",
      "2.574349352461033\n",
      "1.6537285963096644\n",
      "1.77647803046318\n",
      "2.0721925763784683\n",
      "2.9314386154530796\n",
      "3.7627870558564362\n",
      "2.93701813518733\n",
      "4.091978720177229\n",
      "3.511708667815155\n",
      "2.970495253592834\n",
      "2.4013842406992607\n",
      "3.1880965232286123\n",
      "3.467072509941149\n",
      "1.9438636224907015\n",
      "3.2438917205711197\n",
      "2.976074773327085\n",
      "3.4168568323328925\n",
      "2.5576107932582812\n",
      "3.1657784442916093\n",
      "2.85890485890782\n",
      "3.121142286417604\n",
      "3.6846737795769267\n",
      "2.8700638983763214\n",
      "3.494970108612402\n",
      "3.3443230757876323\n",
      "3.919013608415457\n",
      "1.9606021816934538\n",
      "3.651196661171422\n",
      "3.2104146021656152\n",
      "3.740468976919434\n",
      "2.78637110236256\n",
      "2.78079158262831\n",
      "3.271789319242373\n",
      "3.5284472270179066\n",
      "2.6134059906007883\n",
      "2.658042148474794\n",
      "2.713837345817301\n"
     ]
    }
   ],
   "source": [
    "k = 0\n",
    "for i in range(X_test.shape[0]):\n",
    "  k  = lr.predict(X_test[i])\n",
    "  print(k)"
   ]
  },
  {
   "cell_type": "code",
   "execution_count": null,
   "id": "3835802e",
   "metadata": {},
   "outputs": [],
   "source": []
  }
 ],
 "metadata": {
  "kernelspec": {
   "display_name": "Python 3",
   "language": "python",
   "name": "python3"
  },
  "language_info": {
   "codemirror_mode": {
    "name": "ipython",
    "version": 3
   },
   "file_extension": ".py",
   "mimetype": "text/x-python",
   "name": "python",
   "nbconvert_exporter": "python",
   "pygments_lexer": "ipython3",
   "version": "3.13.5"
  }
 },
 "nbformat": 4,
 "nbformat_minor": 5
}
